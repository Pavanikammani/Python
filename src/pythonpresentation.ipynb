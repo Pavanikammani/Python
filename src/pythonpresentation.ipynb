{
 "cells": [
  {
   "cell_type": "markdown",
   "id": "b600e6ea",
   "metadata": {},
   "source": [
    "Python Basics Presentation :  \n"
   ]
  },
  {
   "cell_type": "markdown",
   "id": "52f5fa17",
   "metadata": {},
   "source": [
    "\n",
    "Introduction to Python :\n",
    "\n",
    "Python is a simple yet powerful programming language used in web development, data science, automation, and big data. Its clear syntax and rich library support make it an excellent choice for beginners and professionals.\n",
    " \n",
    "Python Architecture:\n",
    "Interpreter – Executes code line-by-line (CPython is the standard one).\n",
    "\n",
    "Memory Management – Built-in garbage collection.\n",
    "\n",
    "Standard Library – Rich set of built-in modules for math, OS, web, etc.\n",
    "\n",
    "Third-party Packages – Accessed via pip (e.g., NumPy, Pandas, Flask, Django).\n",
    "\n",
    "🔹 Applications of Python\n",
    "Data Analysis & Visualization – Pandas, Matplotlib, Seaborn\n",
    "\n",
    "Web Development – Django, Flask\n",
    "\n",
    "Automation/Scripting – OS tasks, file handling\n",
    "\n",
    "Machine Learning/AI – TensorFlow, scikit-learn\n",
    "\n",
    "Game Development – Pygame\n",
    "\n",
    "APIs & Web Scraping – Requests, BeautifulSoup\n",
    "\n",
    "🔹 Pros and Cons of Python\n",
    "Pros:\n",
    "\n",
    "Easy to learn and read,Huge community and library support,Cross-platform compatibility\n",
    "Versatile (web, data, automation, etc.)\n",
    "\n",
    "Cons:\n",
    "\n",
    "Slower than compiled languages,Not ideal for mobile apps\n",
    "\n",
    "🔹 Why Python for Big Data / Data Science?\n",
    "\n",
    "Python has become a go-to language for Big Data due to its simplicity, extensive libraries, and integration with data platforms .Faster development cycles due to concise syntax.Automate ETL pipelines.perfect fit for processing and analyzing Big Data\n",
    "Python connects seamlessly with:\n",
    "-Apache Hadoop,Apache Spark,Hive,Kafka,HDFS, NoSQL databases (MongoDB, Cassandra)\n",
    "\n"
   ]
  },
  {
   "cell_type": "markdown",
   "id": "b5d305a6",
   "metadata": {},
   "source": [
    "1. Using Python as a Calculator\n",
    "Python can be used like a simple calculator to perform arithmetic operations. \n",
    "It supports operations such as addition, subtraction, multiplication, division, modulus, floor division, and exponentiation."
   ]
  },
  {
   "cell_type": "code",
   "execution_count": 22,
   "id": "68991532",
   "metadata": {},
   "outputs": [
    {
     "name": "stdout",
     "output_type": "stream",
     "text": [
      "Addition: 15\n",
      "Subtraction: 5\n",
      "Multiplication: 50\n",
      "Division: 3.3333333333333335\n",
      "Floor Division: 3\n",
      "Modulus: 1\n",
      "Exponentiation: 8\n"
     ]
    }
   ],
   "source": [
    "print(\"Addition:\", 10 + 5)\n",
    "print(\"Subtraction:\", 10 - 5)\n",
    "print(\"Multiplication:\", 10 * 5)\n",
    "print(\"Division:\", 10 / 3)\n",
    "print(\"Floor Division:\", 10 // 3)\n",
    "print(\"Modulus:\", 10 % 3)\n",
    "print(\"Exponentiation:\", 2 ** 3)"
   ]
  },
  {
   "cell_type": "markdown",
   "id": "298cfd24",
   "metadata": {},
   "source": [
    "2. Numbers\n",
    "\n",
    "Python supports three main types of numeric data:\n",
    "- `int` – Integer numbers. eg (1,2,3)\n",
    "- `float` – Decimal numbers .eg(9.99)\n",
    "- `complex` – Complex numbers. eg(2+5j) \n",
    "- 'ABS' - absolute eg(abs(-5) is 5)\n",
    "\n",
    "Python automatically assigns the appropriate type based on the value."
   ]
  },
  {
   "cell_type": "code",
   "execution_count": 30,
   "id": "88688310",
   "metadata": {},
   "outputs": [
    {
     "name": "stdout",
     "output_type": "stream",
     "text": [
      "DataType of varible a: <class 'int'>\n",
      "DataType of varible b: <class 'float'>\n",
      "DataType of varible c: <class 'complex'>\n"
     ]
    }
   ],
   "source": [
    "a = 10         # int\n",
    "b = 3.14       # float\n",
    "c = 2 + 3j     # complex\n",
    "\n",
    "print(\"DataType of varible a:\", type(a))\n",
    "print(\"DataType of varible b:\", type(b))\n",
    "print(\"DataType of varible c:\", type(c))\n"
   ]
  },
  {
   "cell_type": "markdown",
   "id": "4ffc2ad0",
   "metadata": {},
   "source": []
  },
  {
   "cell_type": "markdown",
   "id": "04204c03",
   "metadata": {},
   "source": [
    "3. Text (Strings)\n",
    "\n",
    "Strings in Python are sequences of characters enclosed in quotes. Strings are immutable.\n",
    "String Features:\n",
    "- Access characters using indexing\n",
    "- Slice substrings\n",
    "- Use string methods like `.upper()`, `.lower()`, `.replace()`, etc.\n",
    "what is slicing :\n"
   ]
  },
  {
   "cell_type": "code",
   "execution_count": 40,
   "id": "4398e6da",
   "metadata": {},
   "outputs": [
    {
     "name": "stdout",
     "output_type": "stream",
     "text": [
      "First letter: P\n",
      "Last letter: g\n",
      "Slice: Python\n",
      "Reverse: gnimmargorP nohtyP\n",
      "Uppercase: PYTHON PROGRAMMING\n",
      "Replaced text: Data Programming\n"
     ]
    }
   ],
   "source": [
    "text = \"Python Programming\"\n",
    "\n",
    "print(\"First letter:\", text[0])\n",
    "print(\"Last letter:\", text[-1])\n",
    "print(\"Slice:\", text[0:6])\n",
    "print(\"Reverse:\", text[::-1])\n",
    "print(\"Uppercase:\", text.upper())\n",
    "print(\"Replaced text:\", text.replace(\"Python\", \"Data\"))\n"
   ]
  },
  {
   "cell_type": "markdown",
   "id": "cbf5039c",
   "metadata": {},
   "source": [
    " 4. Lists\n",
    "Lists are ordered, mutable collections of items. They can store different types of data in a single structure.\n",
    "Common Methods:\n",
    "- `append()`, `remove()`, `pop()`, `sort()`\n"
   ]
  },
  {
   "cell_type": "code",
   "execution_count": 25,
   "id": "d5a92a52",
   "metadata": {},
   "outputs": [
    {
     "name": "stdout",
     "output_type": "stream",
     "text": [
      "Original List: [1, 2, 3, 'Python', True]\n",
      "After Append: [1, 2, 3, 'Python', True, 'New Item']\n",
      "Updated List: [100, 2, 3, 'Python', True, 'New Item']\n",
      "Sliced List: [2, 3, 'Python']\n"
     ]
    }
   ],
   "source": [
    "my_list = [1, 2, 3, \"Python\", True]\n",
    "\n",
    "print(\"Original List:\", my_list)\n",
    "my_list.append(\"New Item\")\n",
    "print(\"After Append:\", my_list)\n",
    "my_list[0] = 100\n",
    "print(\"Updated List:\", my_list)\n",
    "print(\"Sliced List:\", my_list[1:4])\n"
   ]
  },
  {
   "cell_type": "markdown",
   "id": "c5e499b9",
   "metadata": {},
   "source": [
    "#5. First Steps Towards Programming\n",
    " the core building blocks of writing Python programs.\n",
    "\n",
    " Key Concepts:\n",
    "- Variables: Store data in memory using a name.\n",
    "- Expressions: Combine variables and values to produce new results.\n",
    "- Input/Output: Use `input()` to get user input, and `print()` to display output.\n",
    "- Basic Logic: Simple operations like adding, comparing, or checking values.\n",
    "\n",
    "These fundamentals help us build interactive, logical programs.\n"
   ]
  },
  {
   "cell_type": "code",
   "execution_count": 26,
   "id": "dd9ae56e",
   "metadata": {},
   "outputs": [
    {
     "name": "stdout",
     "output_type": "stream",
     "text": [
      "Hello, pavani! Welcome to Python programming.\n",
      "Next year, you will be 30\n"
     ]
    }
   ],
   "source": [
    "# Step 1: Take user input\n",
    "name = input(\"What is your name? \")\n",
    "\n",
    "# Step 2: Store a value in a variable\n",
    "greeting = \"Hello\"\n",
    "\n",
    "# Step 3: Use print to display output\n",
    "print(greeting + \", \" + name + \"! Welcome to Python programming.\")\n",
    "\n",
    "# Step 4: Do a basic calculation\n",
    "age = int(input(\"Enter your age: \"))\n",
    "next_year_age = age + 1\n",
    "print(\"Next year, you will be\", next_year_age)\n"
   ]
  },
  {
   "cell_type": "markdown",
   "id": "f5400362",
   "metadata": {},
   "source": [
    "6. More Control Flow Tools (Introduction)\n",
    "\n",
    "Control flow tools help us decide which parts of the code to run, and how many times.\n",
    "\n",
    "They include:\n",
    "-Conditional Statements\n",
    "- Make decisions based on certain conditions\n",
    "- Keywords: `if`, `elif`, `else`\n",
    "🔹 Loops\n",
    "- Execute blocks of code repeatedly\n",
    "- Types: `for` loop (iterate over sequences), `while` loop (repeat while a condition is true)\n",
    "🔹 Loop Control Statements\n",
    "- `break`: Exit the loop early\n",
    "- `continue`: Skip current iteration and move to the next\n",
    "- `pass`: Placeholder for future code\n",
    "\n",
    "These tools give your code flexibility and logic to solve real-world problems.\n"
   ]
  },
  {
   "cell_type": "markdown",
   "id": "ace7a784",
   "metadata": {},
   "source": [
    "7. if Statements\n",
    "\n",
    "`if` statements allow us to run code conditionally.\n",
    "\n",
    " Syntax:\n",
    "if condition:\n",
    "    # block of code\n",
    "elif other_condition:\n",
    "    # block\n",
    "else:\n",
    "    # default block\n"
   ]
  },
  {
   "cell_type": "code",
   "execution_count": 27,
   "id": "6b8a06c7",
   "metadata": {},
   "outputs": [
    {
     "name": "stdout",
     "output_type": "stream",
     "text": [
      "Grade: A\n"
     ]
    }
   ],
   "source": [
    "\n",
    "\n",
    "marks = int(input(\"Enter your marks: \"))\n",
    "\n",
    "if marks >= 90:\n",
    "    print(\"Grade: A\")\n",
    "elif marks >= 75:\n",
    "    print(\"Grade: B\")\n",
    "elif marks >= 60:\n",
    "    print(\"Grade: C\")\n",
    "else:\n",
    "    print(\"Grade: Fail\")\n",
    "\n"
   ]
  },
  {
   "cell_type": "markdown",
   "id": "b1736853",
   "metadata": {},
   "source": [
    " 8. for Statements\n",
    "\n",
    "The `for` loop in Python is used to **iterate over a sequence** such as a list, string, or range of numbers.\n",
    "\n",
    "🔹 Syntax:\n",
    "```python\n",
    "for variable in sequence:\n",
    "    # code block to execute\n"
   ]
  },
  {
   "cell_type": "code",
   "execution_count": 28,
   "id": "a3b35fdc",
   "metadata": {},
   "outputs": [
    {
     "name": "stdout",
     "output_type": "stream",
     "text": [
      "Number: 1\n",
      "Number: 2\n",
      "Number: 3\n",
      "Number: 4\n",
      "Number: 5\n"
     ]
    }
   ],
   "source": [
    "# Print numbers from 1 to 5\n",
    "for i in range(1, 6):\n",
    "    print(\"Number:\", i)\n"
   ]
  }
 ],
 "metadata": {
  "kernelspec": {
   "display_name": "Python 3",
   "language": "python",
   "name": "python3"
  },
  "language_info": {
   "codemirror_mode": {
    "name": "ipython",
    "version": 3
   },
   "file_extension": ".py",
   "mimetype": "text/x-python",
   "name": "python",
   "nbconvert_exporter": "python",
   "pygments_lexer": "ipython3",
   "version": "3.13.3"
  }
 },
 "nbformat": 4,
 "nbformat_minor": 5
}
