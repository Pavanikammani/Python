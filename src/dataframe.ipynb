{
 "cells": [
  {
   "cell_type": "code",
   "execution_count": 30,
   "id": "454171bd",
   "metadata": {},
   "outputs": [],
   "source": [
    "import pandas as pd \n",
    "employees_df = pd.read_csv('../src/exercises/employees.csv')\n"
   ]
  },
  {
   "cell_type": "code",
   "execution_count": 18,
   "id": "0c27e3ab",
   "metadata": {},
   "outputs": [],
   "source": [
    "employees_df = pd.read_csv('../src/exercises/employees.csv')\n",
    "salaries_df = pd.read_csv(\"../src/exercises/salaries.csv\")\n",
    "departments_df = pd.read_csv(\"../src/exercises/departments.csv\")\n",
    "projects_df = pd.read_csv(\"../src/exercises/projects.csv\")\n",
    "locations_df = pd.read_csv('../src/exercises/locations.csv')"
   ]
  },
  {
   "cell_type": "code",
   "execution_count": null,
   "id": "462ad104",
   "metadata": {},
   "outputs": [],
   "source": []
  },
  {
   "cell_type": "code",
   "execution_count": 19,
   "id": "1533161a",
   "metadata": {},
   "outputs": [
    {
     "name": "stdout",
     "output_type": "stream",
     "text": [
      "   EmployeeID   Name   Department  Salary\n",
      "0           1   John  Engineering   55000\n",
      "1           2   Anna    Marketing   46000\n",
      "2           3  Peter  Engineering   60000\n",
      "3           4  Linda           HR   75000\n",
      "4           5  James    Marketing   49000\n"
     ]
    }
   ],
   "source": [
    "print(employees_df.head())"
   ]
  },
  {
   "cell_type": "code",
   "execution_count": 22,
   "id": "95c7865e",
   "metadata": {},
   "outputs": [
    {
     "name": "stdout",
     "output_type": "stream",
     "text": [
      "(10, 4)\n"
     ]
    }
   ],
   "source": [
    "print(employees_df.shape)\n"
   ]
  },
  {
   "cell_type": "code",
   "execution_count": 23,
   "id": "2b9febc7",
   "metadata": {},
   "outputs": [
    {
     "name": "stdout",
     "output_type": "stream",
     "text": [
      "EmployeeID    0\n",
      "Name          0\n",
      "Department    0\n",
      "Salary        0\n",
      "dtype: int64\n",
      "EmployeeID     int64\n",
      "Name          object\n",
      "Department    object\n",
      "Salary         int64\n",
      "dtype: object\n"
     ]
    }
   ],
   "source": [
    "print(employees_df.isnull().sum()) \n",
    "\n",
    "print(employees_df.dtypes)"
   ]
  },
  {
   "cell_type": "code",
   "execution_count": 24,
   "id": "2779849d",
   "metadata": {},
   "outputs": [],
   "source": [
    "#inner join\n",
    "inner = pd.merge(employees_df, salaries_df, on=\"EmployeeID\", how=\"inner\")"
   ]
  },
  {
   "cell_type": "code",
   "execution_count": 25,
   "id": "a9c1d940",
   "metadata": {},
   "outputs": [],
   "source": [
    "#left join\n",
    "left = pd.merge(employees_df, departments_df, on=\"Department\", how=\"left\")"
   ]
  },
  {
   "cell_type": "code",
   "execution_count": 26,
   "id": "deab848c",
   "metadata": {},
   "outputs": [],
   "source": [
    "#right join\n",
    "right = pd.merge(employees_df, projects_df, on=\"EmployeeID\", how=\"right\")"
   ]
  },
  {
   "cell_type": "code",
   "execution_count": 28,
   "id": "a2b6a380",
   "metadata": {},
   "outputs": [],
   "source": [
    "#fullouer and self join \n",
    "\n",
    "outer = pd.merge(salaries_df, locations_df, on=\"EmployeeID\", how=\"outer\")\n",
    "self_join = pd.merge(employees_df, employees_df, on=\"Department\", suffixes=('_1', '_2'))"
   ]
  },
  {
   "cell_type": "code",
   "execution_count": 31,
   "id": "465edcc0",
   "metadata": {},
   "outputs": [],
   "source": [
    "#Rename a column:\n",
    "\n",
    "employees_df.rename(columns={'Name': 'EmployeeName'}, inplace=True)"
   ]
  },
  {
   "cell_type": "code",
   "execution_count": 32,
   "id": "eefe7df7",
   "metadata": {},
   "outputs": [],
   "source": [
    "#Filter rows:\n",
    "\n",
    "filtered = employees_df[employees_df['EmployeeID'] > 2]"
   ]
  },
  {
   "cell_type": "code",
   "execution_count": 36,
   "id": "be53cf8a",
   "metadata": {},
   "outputs": [],
   "source": [
    "#Drop a column:\n",
    "\n",
    "dropped = employees_df.drop(columns=['Department'])\n",
    "\n",
    "#Create a new column (multiply):\n",
    "\n",
    "employees_df['EmployeeID_x2'] = employees_df['EmployeeID'] * 2"
   ]
  },
  {
   "cell_type": "code",
   "execution_count": null,
   "id": "1671407f",
   "metadata": {},
   "outputs": [
    {
     "name": "stdout",
     "output_type": "stream",
     "text": [
      "    Department\n",
      "0  Engineering\n",
      "1    Marketing\n",
      "2  Engineering\n",
      "3           HR\n",
      "4    Marketing\n"
     ]
    }
   ],
   "source": [
    "# Clean the column names by removing leading/trailing spaces\n",
    "employees_df.columns = employees_df.columns.str.strip()\n",
    "\n",
    "subset = employees_df[['Department']]\n",
    "\n",
    "print(subset.head())"
   ]
  },
  {
   "cell_type": "code",
   "execution_count": 47,
   "id": "1d2d92d6",
   "metadata": {},
   "outputs": [],
   "source": [
    "#Group by Department and calculate mean:\n",
    "\n",
    "\n",
    "grouped = employees_df.groupby('Department')['EmployeeID'].mean()\n",
    "\n",
    "#Sort by Name:\n",
    "\n",
    "#sorted_df = employees_df.sort_values('Name')\n",
    "\n",
    "#Merge two DataFrames:\n",
    "\n",
    "merged = pd.merge(employees_df, salaries_df, on='EmployeeID')\n",
    "\n",
    "#Join on Index:\n",
    "\n",
    "employees_index = employees_df.set_index('EmployeeID')\n",
    "salaries_index = salaries_df.set_index('EmployeeID')\n",
    "joined = employees_index.join(salaries_index, lsuffix='_emp', rsuffix='_sal')\n"
   ]
  },
  {
   "cell_type": "code",
   "execution_count": null,
   "id": "80e29ab1",
   "metadata": {},
   "outputs": [],
   "source": []
  }
 ],
 "metadata": {
  "kernelspec": {
   "display_name": "Python 3",
   "language": "python",
   "name": "python3"
  },
  "language_info": {
   "codemirror_mode": {
    "name": "ipython",
    "version": 3
   },
   "file_extension": ".py",
   "mimetype": "text/x-python",
   "name": "python",
   "nbconvert_exporter": "python",
   "pygments_lexer": "ipython3",
   "version": "3.13.3"
  }
 },
 "nbformat": 4,
 "nbformat_minor": 5
}
